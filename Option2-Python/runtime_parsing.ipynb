{
 "cells": [
  {
   "cell_type": "code",
   "execution_count": 1,
   "id": "d1d895ac",
   "metadata": {},
   "outputs": [
    {
     "name": "stdout",
     "output_type": "stream",
     "text": [
      "Operation which took the most time: rendering. Took 2675\n",
      "Softwares from taking the longest time to the shortest:\n",
      "['Revit', 'Fusion', 'Inventor']\n"
     ]
    }
   ],
   "source": [
    "import json\n",
    "from collections import defaultdict\n",
    "\n",
    "\n",
    "with open('p_ex_1_runtime_parsing.json') as f:\n",
    "    data = json.load(f)\n",
    "\n",
    "\n",
    "\n",
    "def clean_data(data,names,types,fill):\n",
    "    #Filling empty records or bad format\n",
    "    for elem in data:\n",
    "        for names_,types_,fill_ in zip(names,types,fill):\n",
    "            try:\n",
    "                if not isinstance(elem[names_],types_):\n",
    "                    elem[names_] = fill_\n",
    "                if names_ == 'length':\n",
    "                    if elem[names_] < 0:\n",
    "                        elem[names_] = 0\n",
    "\n",
    "            except KeyError:\n",
    "                elem[names_] = fill_\n",
    "\n",
    "def func(data: json) -> None:\n",
    "    names = ['software','operation','length']\n",
    "    types = [str,str,int]\n",
    "    fill = ['missing','missing',0]\n",
    "    clean_data(data,names,types,fill)\n",
    "    \n",
    "    operations_length = defaultdict(int)\n",
    "    softwares_length = defaultdict(int)\n",
    "    for elem in data:\n",
    "        operations_length[elem['operation']] += elem['length']\n",
    "        softwares_length[elem['software']] += elem['length']\n",
    "    operations_length_lst = [elem for elem in operations_length.keys()]\n",
    "    operations_length_lst =sorted(operations_length_lst,key = lambda x: operations_length[x])\n",
    "    \n",
    "    softwares_length_lst = [elem for elem in softwares_length.keys()]\n",
    "    softwares_length_lst =sorted(softwares_length_lst,key = lambda x: softwares_length[x],reverse=True)\n",
    "    print(f'Operation which took the most time: {operations_length_lst[-1]}. Took {operations_length[operations_length_lst[-1]]}')\n",
    "    print(f'Softwares from taking the longest time to the shortest:\\n{softwares_length_lst}')\n",
    "\n",
    "\n",
    "func(data)"
   ]
  },
  {
   "cell_type": "markdown",
   "id": "ca91b19b",
   "metadata": {},
   "source": [
    "### I use a defaultdict() to prevent that a key does not exist in dictionary. Invalid entries i filed with 0 if it was a numerical value or with a string 'missing' in other case"
   ]
  },
  {
   "cell_type": "code",
   "execution_count": null,
   "id": "49e755f0",
   "metadata": {},
   "outputs": [],
   "source": []
  }
 ],
 "metadata": {
  "kernelspec": {
   "display_name": "Python 3 (ipykernel)",
   "language": "python",
   "name": "python3"
  },
  "language_info": {
   "codemirror_mode": {
    "name": "ipython",
    "version": 3
   },
   "file_extension": ".py",
   "mimetype": "text/x-python",
   "name": "python",
   "nbconvert_exporter": "python",
   "pygments_lexer": "ipython3",
   "version": "3.10.4"
  }
 },
 "nbformat": 4,
 "nbformat_minor": 5
}
